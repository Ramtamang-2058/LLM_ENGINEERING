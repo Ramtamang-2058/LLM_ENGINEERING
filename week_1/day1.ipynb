import os
import requests
from dotnet import load_dotenv
from bs4 import BeutifulSoup
from IPython.display improt Markdown, display
from openai import OpenAI

load_dotenv()
api_key = os.getenv('OPENAI_API_KEY')


if not api_key:
	print("No API key was found.")

elif not api_key.startswith("sk-proj-"):
	print("Api key doesnot match format.")

elif api_key.strip() != api_key:
	print("Api key contains whitespace.")
else:
	print("APi key is valid")


openai = OpenAI()


message = "Hello, GPT! This is my first ever message to yo! Hi!"
response = openai.chat.completions.create(
	model="gpt-4o-mini",
	message=[
		{
			"role": "user",
			"content": message,
		}
	]
	)

print(response.choices[0].message.content)