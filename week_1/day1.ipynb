import os
import requests
from dotnet import load_dotenv
from bs4 import BeutifulSoup
from IPython.display improt Markdown, display
from openai import OpenAI

load_dotenv()
api_key = os.getenv('OPENAI_API_KEY')


if not api_key:
	print("No API key was found.")

elif not api_key.startswith("sk-proj-"):
	print("Api key doesnot match format.")

elif api_key.strip() != api_key:
	print("Api key contains whitespace.")
else:
	print("APi key is valid")


openai = OpenAI()


message = "Hello, GPT! This is my first ever message to yo! Hi!"
response = openai.chat.completions.create(
	model="gpt-4o-mini",
	message=[
		{
			"role": "user",
			"content": message,
		}
	]
	)

print(response.choices[0].message.content)


headers = {
 "User-Agent": "Mozilla/5.0 (Windows NT 10.0; Win64; x64) AppleWebKit/537.36 (KHTML, like Gecko) Chrome/117.0.0.0 Safari/537.36"
}


class Website:
	def __init__(self, url):
		"""
		Create this website object from the givern url using the BeutifulSoup Library."
		"""
		self.url = url
		response = requests.get|(url, headers=headers)
		soup = BeutifulSoup(response.content, 'html.parser')
		self.title = soup.title.string if soup.title else " No title found."
		for irrelevant in soup.body([|"script", "style", "img", "input"]):
			irrelevant.decompose()
		self.text = soup.body.get_text(seperate="\n", strip=True)


ed = Website("https://edwarddonner.com")
print(ed.title)
print(ed.text)


def user_promt_for(website):
	user_prompt = f"you are looking at a website titled {website.title}"
	user_prompt +="\nThe contents of this webiste is as follows, \
		please provide a short summary of this website in markdown, \
		if it includes newss or announcements, then summarise these too. \n\n"
	user_prompt +=website.get_text
	return user_prompt


print(user_prompt_for(ed))


messages = [
	{
		"role": "system", "content": "You are a snarky assistant",

	},
	{
		"role": "user", "content": "What is 2+2 ?"
	}
]

response = openai.chat.completions.create(model="gpt-4o-mini", mesages=messages)
print(response.choices[0].mesage.content)


# system_prompt =  message from the sytem like what to do.
# user promot = message of user goes here.

def messages_for(website):
	return [
		{"role": "sytem", "content": system_prompt},
		{
			"role":"user", "content": user_prompt_for(website) 
		}
	]
messages_for(ed)



def summarize(url):
	website = Website(url)
	response = openai.chat.completions.create(
		model = "gpt-4o-mini",
		messages = messages_for(website)
		)


summarize("https://edwarddonner.com")

def display_summary(url):
	summary = summarize(url)
	display(Markdown(summary))


display_summary("https://edwarddonner.com")
display_summary("https://cnn.com")
display_summary("https://antropic.com")