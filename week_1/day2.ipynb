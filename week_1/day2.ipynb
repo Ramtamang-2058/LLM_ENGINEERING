{
 "cells": [
  {
   "cell_type": "code",
   "execution_count": 1,
   "id": "4922f890-437a-4776-ab26-78ffefaadb78",
   "metadata": {},
   "outputs": [],
   "source": [
    "import requests\n",
    "from bs4 import BeautifulSoup\n",
    "from IPython.display import Markdown, display"
   ]
  },
  {
   "cell_type": "code",
   "execution_count": 2,
   "id": "4fe6872d-a39e-4370-9d6b-69074d122393",
   "metadata": {},
   "outputs": [],
   "source": [
    "# Constants \n",
    "OLLAMA_API = \"http://localhost:11434/api/chat\"\n",
    "HEADERS = {\"Content-Type\": \"application/json\"}\n",
    "MODEL = \"llama3.2\""
   ]
  },
  {
   "cell_type": "code",
   "execution_count": 3,
   "id": "c2f8c620-ada6-4d78-bd5e-f3fe35a6436a",
   "metadata": {},
   "outputs": [],
   "source": [
    "# Create a messages list using same format used for open AI\n",
    "messages = [\n",
    "    {\n",
    "        \"role\": \"user\",\n",
    "        \"content\": \"Describe some of the business applications of Generative AI\"\n",
    "    }\n",
    "]"
   ]
  },
  {
   "cell_type": "code",
   "execution_count": 4,
   "id": "0a2ab51d-2cd4-4985-a98a-581f83bf2847",
   "metadata": {},
   "outputs": [],
   "source": [
    "payload = {\n",
    "    \"model\": MODEL,\n",
    "    \"messages\": messages,\n",
    "    \"stream\": False\n",
    "}"
   ]
  },
  {
   "cell_type": "code",
   "execution_count": 5,
   "id": "b46db590-68fa-4be7-9be7-edb66669819a",
   "metadata": {},
   "outputs": [
    {
     "name": "stdout",
     "output_type": "stream",
     "text": [
      "Generative AI has numerous business applications across various industries, including:\n",
      "\n",
      "1. **Content Creation**: AI-powered tools can generate high-quality content such as articles, blog posts, social media posts, and even entire books. This can help reduce content creation costs and increase efficiency for businesses.\n",
      "2. **Graphic Design and Visual Content**: Generative AI can create custom graphics, logos, infographics, and other visual elements using pre-trained models like DeepDream or Prisma. This can be used to enhance branding and marketing materials.\n",
      "3. **Music and Audio Creation**: AI-powered music generation tools can create original music tracks, sound effects, and even entire albums. This can be useful for businesses in the entertainment industry or those looking to create engaging audio content.\n",
      "4. **Product Design and Prototyping**: Generative AI can generate 2D and 3D product designs, allowing businesses to quickly prototype and test new products without the need for extensive design teams.\n",
      "5. **Customer Service Chatbots**: AI-powered chatbots can be used to provide customer support and answer frequently asked questions, freeing up human customer service representatives to focus on more complex issues.\n",
      "6. **Marketing and Advertising**: Generative AI can create personalized marketing messages, product recommendations, and even entire ad campaigns, helping businesses to target their audience more effectively.\n",
      "7. **Data Analysis and Visualization**: AI-powered tools can analyze large datasets and generate insights, visualizations, and reports, making it easier for businesses to make data-driven decisions.\n",
      "8. **Language Translation**: Generative AI can help businesses translate documents, websites, and other content into multiple languages, reducing the need for human translators and increasing global reach.\n",
      "9. **Image and Video Editing**: AI-powered tools can edit images and videos, allowing businesses to enhance their visual content and create more engaging marketing materials.\n",
      "10. **Supply Chain Optimization**: Generative AI can analyze supply chain data and generate insights on optimal inventory management, shipping routes, and other critical factors, helping businesses optimize their logistics and reduce costs.\n",
      "\n",
      "Some specific examples of business applications of Generative AI include:\n",
      "\n",
      "* Google's DeepMind-generated art\n",
      "* IBM's AI-powered content creation tools\n",
      "* Facebook's AI-generated avatars for messaging\n",
      "* Amazon's AI-powered chatbots for customer support\n",
      "* Volkswagen's AI-powered design and prototyping tools\n",
      "* Netflix's AI-generated movie recommendations\n",
      "\n",
      "These are just a few examples of the many business applications of Generative AI. As the technology continues to evolve, we can expect to see even more innovative uses across various industries.\n"
     ]
    }
   ],
   "source": [
    "response = requests.post(\n",
    "    OLLAMA_API,\n",
    "    json=payload,\n",
    "    headers=HEADERS\n",
    ")\n",
    "print(response.json()['message']['content'])"
   ]
  },
  {
   "cell_type": "code",
   "execution_count": 12,
   "id": "7c8a78fc-6baf-4e72-8991-9d0325b4ded2",
   "metadata": {},
   "outputs": [
    {
     "name": "stdout",
     "output_type": "stream",
     "text": [
      "Collecting ollama\n",
      "  Using cached ollama-0.4.4-py3-none-any.whl.metadata (4.7 kB)\n",
      "Requirement already satisfied: httpx<0.28.0,>=0.27.0 in /home/ram/anaconda3/lib/python3.12/site-packages (from ollama) (0.27.0)\n",
      "Collecting pydantic<3.0.0,>=2.9.0 (from ollama)\n",
      "  Downloading pydantic-2.10.4-py3-none-any.whl.metadata (29 kB)\n",
      "Requirement already satisfied: anyio in /home/ram/anaconda3/lib/python3.12/site-packages (from httpx<0.28.0,>=0.27.0->ollama) (4.2.0)\n",
      "Requirement already satisfied: certifi in /home/ram/anaconda3/lib/python3.12/site-packages (from httpx<0.28.0,>=0.27.0->ollama) (2024.8.30)\n",
      "Requirement already satisfied: httpcore==1.* in /home/ram/anaconda3/lib/python3.12/site-packages (from httpx<0.28.0,>=0.27.0->ollama) (1.0.2)\n",
      "Requirement already satisfied: idna in /home/ram/anaconda3/lib/python3.12/site-packages (from httpx<0.28.0,>=0.27.0->ollama) (3.7)\n",
      "Requirement already satisfied: sniffio in /home/ram/anaconda3/lib/python3.12/site-packages (from httpx<0.28.0,>=0.27.0->ollama) (1.3.0)\n",
      "Requirement already satisfied: h11<0.15,>=0.13 in /home/ram/anaconda3/lib/python3.12/site-packages (from httpcore==1.*->httpx<0.28.0,>=0.27.0->ollama) (0.14.0)\n",
      "Requirement already satisfied: annotated-types>=0.6.0 in /home/ram/anaconda3/lib/python3.12/site-packages (from pydantic<3.0.0,>=2.9.0->ollama) (0.6.0)\n",
      "Collecting pydantic-core==2.27.2 (from pydantic<3.0.0,>=2.9.0->ollama)\n",
      "  Downloading pydantic_core-2.27.2-cp312-cp312-manylinux_2_17_x86_64.manylinux2014_x86_64.whl.metadata (6.6 kB)\n",
      "Collecting typing-extensions>=4.12.2 (from pydantic<3.0.0,>=2.9.0->ollama)\n",
      "  Using cached typing_extensions-4.12.2-py3-none-any.whl.metadata (3.0 kB)\n",
      "Using cached ollama-0.4.4-py3-none-any.whl (13 kB)\n",
      "Downloading pydantic-2.10.4-py3-none-any.whl (431 kB)\n",
      "Downloading pydantic_core-2.27.2-cp312-cp312-manylinux_2_17_x86_64.manylinux2014_x86_64.whl (2.0 MB)\n",
      "\u001b[2K   \u001b[38;2;114;156;31m━━━━━━━━━━━━━━━━━━━━━━━━━━━━━━━━━━━━━━━━\u001b[0m \u001b[32m2.0/2.0 MB\u001b[0m \u001b[31m1.8 MB/s\u001b[0m eta \u001b[36m0:00:00\u001b[0m[31m1.9 MB/s\u001b[0m eta \u001b[36m0:00:01\u001b[0m\n",
      "\u001b[?25hUsing cached typing_extensions-4.12.2-py3-none-any.whl (37 kB)\n",
      "Installing collected packages: typing-extensions, pydantic-core, pydantic, ollama\n",
      "  Attempting uninstall: typing-extensions\n",
      "    Found existing installation: typing_extensions 4.11.0\n",
      "    Uninstalling typing_extensions-4.11.0:\n",
      "      Successfully uninstalled typing_extensions-4.11.0\n",
      "  Attempting uninstall: pydantic-core\n",
      "    Found existing installation: pydantic_core 2.20.1\n",
      "    Uninstalling pydantic_core-2.20.1:\n",
      "      Successfully uninstalled pydantic_core-2.20.1\n",
      "  Attempting uninstall: pydantic\n",
      "    Found existing installation: pydantic 2.8.2\n",
      "    Uninstalling pydantic-2.8.2:\n",
      "      Successfully uninstalled pydantic-2.8.2\n",
      "Successfully installed ollama-0.4.4 pydantic-2.10.4 pydantic-core-2.27.2 typing-extensions-4.12.2\n"
     ]
    }
   ],
   "source": [
    "# install package ollama\n",
    "!pip install ollama"
   ]
  },
  {
   "cell_type": "code",
   "execution_count": 15,
   "id": "8a8e22ae-92d9-4a0a-9e16-e5113bc64df7",
   "metadata": {},
   "outputs": [
    {
     "name": "stdout",
     "output_type": "stream",
     "text": [
      "Collecting openai\n",
      "  Using cached openai-1.58.1-py3-none-any.whl.metadata (27 kB)\n",
      "Requirement already satisfied: anyio<5,>=3.5.0 in /home/ram/anaconda3/lib/python3.12/site-packages (from openai) (4.2.0)\n",
      "Requirement already satisfied: distro<2,>=1.7.0 in /home/ram/anaconda3/lib/python3.12/site-packages (from openai) (1.9.0)\n",
      "Requirement already satisfied: httpx<1,>=0.23.0 in /home/ram/anaconda3/lib/python3.12/site-packages (from openai) (0.27.0)\n",
      "Collecting jiter<1,>=0.4.0 (from openai)\n",
      "  Downloading jiter-0.8.2-cp312-cp312-manylinux_2_17_x86_64.manylinux2014_x86_64.whl.metadata (5.2 kB)\n",
      "Requirement already satisfied: pydantic<3,>=1.9.0 in /home/ram/anaconda3/lib/python3.12/site-packages (from openai) (2.10.4)\n",
      "Requirement already satisfied: sniffio in /home/ram/anaconda3/lib/python3.12/site-packages (from openai) (1.3.0)\n",
      "Requirement already satisfied: tqdm>4 in /home/ram/anaconda3/lib/python3.12/site-packages (from openai) (4.66.5)\n",
      "Requirement already satisfied: typing-extensions<5,>=4.11 in /home/ram/anaconda3/lib/python3.12/site-packages (from openai) (4.12.2)\n",
      "Requirement already satisfied: idna>=2.8 in /home/ram/anaconda3/lib/python3.12/site-packages (from anyio<5,>=3.5.0->openai) (3.7)\n",
      "Requirement already satisfied: certifi in /home/ram/anaconda3/lib/python3.12/site-packages (from httpx<1,>=0.23.0->openai) (2024.8.30)\n",
      "Requirement already satisfied: httpcore==1.* in /home/ram/anaconda3/lib/python3.12/site-packages (from httpx<1,>=0.23.0->openai) (1.0.2)\n",
      "Requirement already satisfied: h11<0.15,>=0.13 in /home/ram/anaconda3/lib/python3.12/site-packages (from httpcore==1.*->httpx<1,>=0.23.0->openai) (0.14.0)\n",
      "Requirement already satisfied: annotated-types>=0.6.0 in /home/ram/anaconda3/lib/python3.12/site-packages (from pydantic<3,>=1.9.0->openai) (0.6.0)\n",
      "Requirement already satisfied: pydantic-core==2.27.2 in /home/ram/anaconda3/lib/python3.12/site-packages (from pydantic<3,>=1.9.0->openai) (2.27.2)\n",
      "Using cached openai-1.58.1-py3-none-any.whl (454 kB)\n",
      "Downloading jiter-0.8.2-cp312-cp312-manylinux_2_17_x86_64.manylinux2014_x86_64.whl (345 kB)\n",
      "Installing collected packages: jiter, openai\n",
      "Successfully installed jiter-0.8.2 openai-1.58.1\n"
     ]
    }
   ],
   "source": [
    "!pip install openai"
   ]
  },
  {
   "cell_type": "code",
   "execution_count": 17,
   "id": "975c129d-d25b-4543-9ee9-bceb4b9e7666",
   "metadata": {},
   "outputs": [
    {
     "name": "stdout",
     "output_type": "stream",
     "text": [
      "Generative AI has numerous business applications across various industries, including:\n",
      "\n",
      "1. **Content Creation**: Generative AI can generate high-quality content such as articles, social media posts, product descriptions, and more. This can help businesses streamline their content creation process and reduce costs.\n",
      "2. **Marketing Automation**: Generative AI-powered tools can create personalized marketing campaigns, product recommendations, and targeted advertisements based on customer behavior and preferences.\n",
      "3. **Product Design**: Generative AI can be used to design new products, such as furniture, electronics, and clothing, by generating 3D models, prototypes, and even entire product lines.\n",
      "4. **Image and Video Generation**: Generative AI can create realistic images and videos that can be used for various applications, including advertising, entertainment, and education.\n",
      "5. **Virtual Assistants**: Generative AI-powered virtual assistants can help businesses provide personalized customer support, answer frequently asked questions, and even generate responses to common customer inquiries.\n",
      "6. **Predictive Maintenance**: Generative AI can analyze sensor data from machines and predict when maintenance is required, reducing downtime and increasing overall efficiency.\n",
      "7. **Personalized Recommendations**: Generative AI-powered tools can create personalized product recommendations for customers based on their browsing history, purchase behavior, and preferences.\n",
      "8. **Chatbots**: Generative AI-powered chatbots can help businesses automate customer support, provide 24/7 assistance, and improve customer satisfaction.\n",
      "9. **Financial Modeling**: Generative AI can be used to create financial models, predict market trends, and analyze investment opportunities.\n",
      "10. **Supply Chain Optimization**: Generative AI can optimize supply chain operations by predicting demand, managing inventory, and identifying bottlenecks in the supply chain.\n",
      "\n",
      "Some specific business applications of Generative AI include:\n",
      "\n",
      "* **Google's Dreamforce**: Google uses Generative AI to create personalized customer experiences, such as generating customized product recommendations based on user behavior.\n",
      "* **Amazon's Alexa**: Amazon's virtual assistant, Alexa, is powered by Generative AI, which enables it to understand voice commands and respond accordingly.\n",
      "* **H&M's Garment Creation**: H&M has partnered with a startup that uses Generative AI to design new clothing products, reducing the time and cost associated with traditional design processes.\n",
      "\n",
      "These are just a few examples of the many business applications of Generative AI. As the technology continues to evolve, we can expect to see even more innovative uses across various industries.\n"
     ]
    }
   ],
   "source": [
    "# Using ollama package\n",
    "\n",
    "import ollama\n",
    "\n",
    "response = ollama.chat(model=MODEL, messages=messages)\n",
    "print(response['message']['content'])"
   ]
  },
  {
   "cell_type": "code",
   "execution_count": 19,
   "id": "31976f68-2a38-4ba3-abd2-9f8efa1ec7aa",
   "metadata": {},
   "outputs": [
    {
     "ename": "KeyboardInterrupt",
     "evalue": "",
     "output_type": "error",
     "traceback": [
      "\u001b[0;31m---------------------------------------------------------------------------\u001b[0m",
      "\u001b[0;31mKeyboardInterrupt\u001b[0m                         Traceback (most recent call last)",
      "Cell \u001b[0;32mIn[19], line 6\u001b[0m\n\u001b[1;32m      3\u001b[0m \u001b[38;5;28;01mfrom\u001b[39;00m \u001b[38;5;21;01mopenai\u001b[39;00m \u001b[38;5;28;01mimport\u001b[39;00m OpenAI\n\u001b[1;32m      4\u001b[0m ollama_via_openai \u001b[38;5;241m=\u001b[39m OpenAI(base_url\u001b[38;5;241m=\u001b[39m\u001b[38;5;124m'\u001b[39m\u001b[38;5;124mhttp://localhost:11434/v1\u001b[39m\u001b[38;5;124m'\u001b[39m, api_key\u001b[38;5;241m=\u001b[39m\u001b[38;5;124m'\u001b[39m\u001b[38;5;124mollama\u001b[39m\u001b[38;5;124m'\u001b[39m)\n\u001b[0;32m----> 6\u001b[0m response \u001b[38;5;241m=\u001b[39m ollama_via_openai\u001b[38;5;241m.\u001b[39mchat\u001b[38;5;241m.\u001b[39mcompletions\u001b[38;5;241m.\u001b[39mcreate(\n\u001b[1;32m      7\u001b[0m     model\u001b[38;5;241m=\u001b[39mMODEL,\n\u001b[1;32m      8\u001b[0m     messages\u001b[38;5;241m=\u001b[39mmessages\n\u001b[1;32m      9\u001b[0m )\n",
      "File \u001b[0;32m~/anaconda3/lib/python3.12/site-packages/openai/_utils/_utils.py:275\u001b[0m, in \u001b[0;36mrequired_args.<locals>.inner.<locals>.wrapper\u001b[0;34m(*args, **kwargs)\u001b[0m\n\u001b[1;32m    273\u001b[0m             msg \u001b[38;5;241m=\u001b[39m \u001b[38;5;124mf\u001b[39m\u001b[38;5;124m\"\u001b[39m\u001b[38;5;124mMissing required argument: \u001b[39m\u001b[38;5;132;01m{\u001b[39;00mquote(missing[\u001b[38;5;241m0\u001b[39m])\u001b[38;5;132;01m}\u001b[39;00m\u001b[38;5;124m\"\u001b[39m\n\u001b[1;32m    274\u001b[0m     \u001b[38;5;28;01mraise\u001b[39;00m \u001b[38;5;167;01mTypeError\u001b[39;00m(msg)\n\u001b[0;32m--> 275\u001b[0m \u001b[38;5;28;01mreturn\u001b[39;00m func(\u001b[38;5;241m*\u001b[39margs, \u001b[38;5;241m*\u001b[39m\u001b[38;5;241m*\u001b[39mkwargs)\n",
      "File \u001b[0;32m~/anaconda3/lib/python3.12/site-packages/openai/resources/chat/completions.py:859\u001b[0m, in \u001b[0;36mCompletions.create\u001b[0;34m(self, messages, model, audio, frequency_penalty, function_call, functions, logit_bias, logprobs, max_completion_tokens, max_tokens, metadata, modalities, n, parallel_tool_calls, prediction, presence_penalty, reasoning_effort, response_format, seed, service_tier, stop, store, stream, stream_options, temperature, tool_choice, tools, top_logprobs, top_p, user, extra_headers, extra_query, extra_body, timeout)\u001b[0m\n\u001b[1;32m    817\u001b[0m \u001b[38;5;129m@required_args\u001b[39m([\u001b[38;5;124m\"\u001b[39m\u001b[38;5;124mmessages\u001b[39m\u001b[38;5;124m\"\u001b[39m, \u001b[38;5;124m\"\u001b[39m\u001b[38;5;124mmodel\u001b[39m\u001b[38;5;124m\"\u001b[39m], [\u001b[38;5;124m\"\u001b[39m\u001b[38;5;124mmessages\u001b[39m\u001b[38;5;124m\"\u001b[39m, \u001b[38;5;124m\"\u001b[39m\u001b[38;5;124mmodel\u001b[39m\u001b[38;5;124m\"\u001b[39m, \u001b[38;5;124m\"\u001b[39m\u001b[38;5;124mstream\u001b[39m\u001b[38;5;124m\"\u001b[39m])\n\u001b[1;32m    818\u001b[0m \u001b[38;5;28;01mdef\u001b[39;00m \u001b[38;5;21mcreate\u001b[39m(\n\u001b[1;32m    819\u001b[0m     \u001b[38;5;28mself\u001b[39m,\n\u001b[0;32m   (...)\u001b[0m\n\u001b[1;32m    856\u001b[0m     timeout: \u001b[38;5;28mfloat\u001b[39m \u001b[38;5;241m|\u001b[39m httpx\u001b[38;5;241m.\u001b[39mTimeout \u001b[38;5;241m|\u001b[39m \u001b[38;5;28;01mNone\u001b[39;00m \u001b[38;5;241m|\u001b[39m NotGiven \u001b[38;5;241m=\u001b[39m NOT_GIVEN,\n\u001b[1;32m    857\u001b[0m ) \u001b[38;5;241m-\u001b[39m\u001b[38;5;241m>\u001b[39m ChatCompletion \u001b[38;5;241m|\u001b[39m Stream[ChatCompletionChunk]:\n\u001b[1;32m    858\u001b[0m     validate_response_format(response_format)\n\u001b[0;32m--> 859\u001b[0m     \u001b[38;5;28;01mreturn\u001b[39;00m \u001b[38;5;28mself\u001b[39m\u001b[38;5;241m.\u001b[39m_post(\n\u001b[1;32m    860\u001b[0m         \u001b[38;5;124m\"\u001b[39m\u001b[38;5;124m/chat/completions\u001b[39m\u001b[38;5;124m\"\u001b[39m,\n\u001b[1;32m    861\u001b[0m         body\u001b[38;5;241m=\u001b[39mmaybe_transform(\n\u001b[1;32m    862\u001b[0m             {\n\u001b[1;32m    863\u001b[0m                 \u001b[38;5;124m\"\u001b[39m\u001b[38;5;124mmessages\u001b[39m\u001b[38;5;124m\"\u001b[39m: messages,\n\u001b[1;32m    864\u001b[0m                 \u001b[38;5;124m\"\u001b[39m\u001b[38;5;124mmodel\u001b[39m\u001b[38;5;124m\"\u001b[39m: model,\n\u001b[1;32m    865\u001b[0m                 \u001b[38;5;124m\"\u001b[39m\u001b[38;5;124maudio\u001b[39m\u001b[38;5;124m\"\u001b[39m: audio,\n\u001b[1;32m    866\u001b[0m                 \u001b[38;5;124m\"\u001b[39m\u001b[38;5;124mfrequency_penalty\u001b[39m\u001b[38;5;124m\"\u001b[39m: frequency_penalty,\n\u001b[1;32m    867\u001b[0m                 \u001b[38;5;124m\"\u001b[39m\u001b[38;5;124mfunction_call\u001b[39m\u001b[38;5;124m\"\u001b[39m: function_call,\n\u001b[1;32m    868\u001b[0m                 \u001b[38;5;124m\"\u001b[39m\u001b[38;5;124mfunctions\u001b[39m\u001b[38;5;124m\"\u001b[39m: functions,\n\u001b[1;32m    869\u001b[0m                 \u001b[38;5;124m\"\u001b[39m\u001b[38;5;124mlogit_bias\u001b[39m\u001b[38;5;124m\"\u001b[39m: logit_bias,\n\u001b[1;32m    870\u001b[0m                 \u001b[38;5;124m\"\u001b[39m\u001b[38;5;124mlogprobs\u001b[39m\u001b[38;5;124m\"\u001b[39m: logprobs,\n\u001b[1;32m    871\u001b[0m                 \u001b[38;5;124m\"\u001b[39m\u001b[38;5;124mmax_completion_tokens\u001b[39m\u001b[38;5;124m\"\u001b[39m: max_completion_tokens,\n\u001b[1;32m    872\u001b[0m                 \u001b[38;5;124m\"\u001b[39m\u001b[38;5;124mmax_tokens\u001b[39m\u001b[38;5;124m\"\u001b[39m: max_tokens,\n\u001b[1;32m    873\u001b[0m                 \u001b[38;5;124m\"\u001b[39m\u001b[38;5;124mmetadata\u001b[39m\u001b[38;5;124m\"\u001b[39m: metadata,\n\u001b[1;32m    874\u001b[0m                 \u001b[38;5;124m\"\u001b[39m\u001b[38;5;124mmodalities\u001b[39m\u001b[38;5;124m\"\u001b[39m: modalities,\n\u001b[1;32m    875\u001b[0m                 \u001b[38;5;124m\"\u001b[39m\u001b[38;5;124mn\u001b[39m\u001b[38;5;124m\"\u001b[39m: n,\n\u001b[1;32m    876\u001b[0m                 \u001b[38;5;124m\"\u001b[39m\u001b[38;5;124mparallel_tool_calls\u001b[39m\u001b[38;5;124m\"\u001b[39m: parallel_tool_calls,\n\u001b[1;32m    877\u001b[0m                 \u001b[38;5;124m\"\u001b[39m\u001b[38;5;124mprediction\u001b[39m\u001b[38;5;124m\"\u001b[39m: prediction,\n\u001b[1;32m    878\u001b[0m                 \u001b[38;5;124m\"\u001b[39m\u001b[38;5;124mpresence_penalty\u001b[39m\u001b[38;5;124m\"\u001b[39m: presence_penalty,\n\u001b[1;32m    879\u001b[0m                 \u001b[38;5;124m\"\u001b[39m\u001b[38;5;124mreasoning_effort\u001b[39m\u001b[38;5;124m\"\u001b[39m: reasoning_effort,\n\u001b[1;32m    880\u001b[0m                 \u001b[38;5;124m\"\u001b[39m\u001b[38;5;124mresponse_format\u001b[39m\u001b[38;5;124m\"\u001b[39m: response_format,\n\u001b[1;32m    881\u001b[0m                 \u001b[38;5;124m\"\u001b[39m\u001b[38;5;124mseed\u001b[39m\u001b[38;5;124m\"\u001b[39m: seed,\n\u001b[1;32m    882\u001b[0m                 \u001b[38;5;124m\"\u001b[39m\u001b[38;5;124mservice_tier\u001b[39m\u001b[38;5;124m\"\u001b[39m: service_tier,\n\u001b[1;32m    883\u001b[0m                 \u001b[38;5;124m\"\u001b[39m\u001b[38;5;124mstop\u001b[39m\u001b[38;5;124m\"\u001b[39m: stop,\n\u001b[1;32m    884\u001b[0m                 \u001b[38;5;124m\"\u001b[39m\u001b[38;5;124mstore\u001b[39m\u001b[38;5;124m\"\u001b[39m: store,\n\u001b[1;32m    885\u001b[0m                 \u001b[38;5;124m\"\u001b[39m\u001b[38;5;124mstream\u001b[39m\u001b[38;5;124m\"\u001b[39m: stream,\n\u001b[1;32m    886\u001b[0m                 \u001b[38;5;124m\"\u001b[39m\u001b[38;5;124mstream_options\u001b[39m\u001b[38;5;124m\"\u001b[39m: stream_options,\n\u001b[1;32m    887\u001b[0m                 \u001b[38;5;124m\"\u001b[39m\u001b[38;5;124mtemperature\u001b[39m\u001b[38;5;124m\"\u001b[39m: temperature,\n\u001b[1;32m    888\u001b[0m                 \u001b[38;5;124m\"\u001b[39m\u001b[38;5;124mtool_choice\u001b[39m\u001b[38;5;124m\"\u001b[39m: tool_choice,\n\u001b[1;32m    889\u001b[0m                 \u001b[38;5;124m\"\u001b[39m\u001b[38;5;124mtools\u001b[39m\u001b[38;5;124m\"\u001b[39m: tools,\n\u001b[1;32m    890\u001b[0m                 \u001b[38;5;124m\"\u001b[39m\u001b[38;5;124mtop_logprobs\u001b[39m\u001b[38;5;124m\"\u001b[39m: top_logprobs,\n\u001b[1;32m    891\u001b[0m                 \u001b[38;5;124m\"\u001b[39m\u001b[38;5;124mtop_p\u001b[39m\u001b[38;5;124m\"\u001b[39m: top_p,\n\u001b[1;32m    892\u001b[0m                 \u001b[38;5;124m\"\u001b[39m\u001b[38;5;124muser\u001b[39m\u001b[38;5;124m\"\u001b[39m: user,\n\u001b[1;32m    893\u001b[0m             },\n\u001b[1;32m    894\u001b[0m             completion_create_params\u001b[38;5;241m.\u001b[39mCompletionCreateParams,\n\u001b[1;32m    895\u001b[0m         ),\n\u001b[1;32m    896\u001b[0m         options\u001b[38;5;241m=\u001b[39mmake_request_options(\n\u001b[1;32m    897\u001b[0m             extra_headers\u001b[38;5;241m=\u001b[39mextra_headers, extra_query\u001b[38;5;241m=\u001b[39mextra_query, extra_body\u001b[38;5;241m=\u001b[39mextra_body, timeout\u001b[38;5;241m=\u001b[39mtimeout\n\u001b[1;32m    898\u001b[0m         ),\n\u001b[1;32m    899\u001b[0m         cast_to\u001b[38;5;241m=\u001b[39mChatCompletion,\n\u001b[1;32m    900\u001b[0m         stream\u001b[38;5;241m=\u001b[39mstream \u001b[38;5;129;01mor\u001b[39;00m \u001b[38;5;28;01mFalse\u001b[39;00m,\n\u001b[1;32m    901\u001b[0m         stream_cls\u001b[38;5;241m=\u001b[39mStream[ChatCompletionChunk],\n\u001b[1;32m    902\u001b[0m     )\n",
      "File \u001b[0;32m~/anaconda3/lib/python3.12/site-packages/openai/_base_client.py:1280\u001b[0m, in \u001b[0;36mSyncAPIClient.post\u001b[0;34m(self, path, cast_to, body, options, files, stream, stream_cls)\u001b[0m\n\u001b[1;32m   1266\u001b[0m \u001b[38;5;28;01mdef\u001b[39;00m \u001b[38;5;21mpost\u001b[39m(\n\u001b[1;32m   1267\u001b[0m     \u001b[38;5;28mself\u001b[39m,\n\u001b[1;32m   1268\u001b[0m     path: \u001b[38;5;28mstr\u001b[39m,\n\u001b[0;32m   (...)\u001b[0m\n\u001b[1;32m   1275\u001b[0m     stream_cls: \u001b[38;5;28mtype\u001b[39m[_StreamT] \u001b[38;5;241m|\u001b[39m \u001b[38;5;28;01mNone\u001b[39;00m \u001b[38;5;241m=\u001b[39m \u001b[38;5;28;01mNone\u001b[39;00m,\n\u001b[1;32m   1276\u001b[0m ) \u001b[38;5;241m-\u001b[39m\u001b[38;5;241m>\u001b[39m ResponseT \u001b[38;5;241m|\u001b[39m _StreamT:\n\u001b[1;32m   1277\u001b[0m     opts \u001b[38;5;241m=\u001b[39m FinalRequestOptions\u001b[38;5;241m.\u001b[39mconstruct(\n\u001b[1;32m   1278\u001b[0m         method\u001b[38;5;241m=\u001b[39m\u001b[38;5;124m\"\u001b[39m\u001b[38;5;124mpost\u001b[39m\u001b[38;5;124m\"\u001b[39m, url\u001b[38;5;241m=\u001b[39mpath, json_data\u001b[38;5;241m=\u001b[39mbody, files\u001b[38;5;241m=\u001b[39mto_httpx_files(files), \u001b[38;5;241m*\u001b[39m\u001b[38;5;241m*\u001b[39moptions\n\u001b[1;32m   1279\u001b[0m     )\n\u001b[0;32m-> 1280\u001b[0m     \u001b[38;5;28;01mreturn\u001b[39;00m cast(ResponseT, \u001b[38;5;28mself\u001b[39m\u001b[38;5;241m.\u001b[39mrequest(cast_to, opts, stream\u001b[38;5;241m=\u001b[39mstream, stream_cls\u001b[38;5;241m=\u001b[39mstream_cls))\n",
      "File \u001b[0;32m~/anaconda3/lib/python3.12/site-packages/openai/_base_client.py:957\u001b[0m, in \u001b[0;36mSyncAPIClient.request\u001b[0;34m(self, cast_to, options, remaining_retries, stream, stream_cls)\u001b[0m\n\u001b[1;32m    954\u001b[0m \u001b[38;5;28;01melse\u001b[39;00m:\n\u001b[1;32m    955\u001b[0m     retries_taken \u001b[38;5;241m=\u001b[39m \u001b[38;5;241m0\u001b[39m\n\u001b[0;32m--> 957\u001b[0m \u001b[38;5;28;01mreturn\u001b[39;00m \u001b[38;5;28mself\u001b[39m\u001b[38;5;241m.\u001b[39m_request(\n\u001b[1;32m    958\u001b[0m     cast_to\u001b[38;5;241m=\u001b[39mcast_to,\n\u001b[1;32m    959\u001b[0m     options\u001b[38;5;241m=\u001b[39moptions,\n\u001b[1;32m    960\u001b[0m     stream\u001b[38;5;241m=\u001b[39mstream,\n\u001b[1;32m    961\u001b[0m     stream_cls\u001b[38;5;241m=\u001b[39mstream_cls,\n\u001b[1;32m    962\u001b[0m     retries_taken\u001b[38;5;241m=\u001b[39mretries_taken,\n\u001b[1;32m    963\u001b[0m )\n",
      "File \u001b[0;32m~/anaconda3/lib/python3.12/site-packages/openai/_base_client.py:993\u001b[0m, in \u001b[0;36mSyncAPIClient._request\u001b[0;34m(self, cast_to, options, retries_taken, stream, stream_cls)\u001b[0m\n\u001b[1;32m    990\u001b[0m log\u001b[38;5;241m.\u001b[39mdebug(\u001b[38;5;124m\"\u001b[39m\u001b[38;5;124mSending HTTP Request: \u001b[39m\u001b[38;5;132;01m%s\u001b[39;00m\u001b[38;5;124m \u001b[39m\u001b[38;5;132;01m%s\u001b[39;00m\u001b[38;5;124m\"\u001b[39m, request\u001b[38;5;241m.\u001b[39mmethod, request\u001b[38;5;241m.\u001b[39murl)\n\u001b[1;32m    992\u001b[0m \u001b[38;5;28;01mtry\u001b[39;00m:\n\u001b[0;32m--> 993\u001b[0m     response \u001b[38;5;241m=\u001b[39m \u001b[38;5;28mself\u001b[39m\u001b[38;5;241m.\u001b[39m_client\u001b[38;5;241m.\u001b[39msend(\n\u001b[1;32m    994\u001b[0m         request,\n\u001b[1;32m    995\u001b[0m         stream\u001b[38;5;241m=\u001b[39mstream \u001b[38;5;129;01mor\u001b[39;00m \u001b[38;5;28mself\u001b[39m\u001b[38;5;241m.\u001b[39m_should_stream_response_body(request\u001b[38;5;241m=\u001b[39mrequest),\n\u001b[1;32m    996\u001b[0m         \u001b[38;5;241m*\u001b[39m\u001b[38;5;241m*\u001b[39mkwargs,\n\u001b[1;32m    997\u001b[0m     )\n\u001b[1;32m    998\u001b[0m \u001b[38;5;28;01mexcept\u001b[39;00m httpx\u001b[38;5;241m.\u001b[39mTimeoutException \u001b[38;5;28;01mas\u001b[39;00m err:\n\u001b[1;32m    999\u001b[0m     log\u001b[38;5;241m.\u001b[39mdebug(\u001b[38;5;124m\"\u001b[39m\u001b[38;5;124mEncountered httpx.TimeoutException\u001b[39m\u001b[38;5;124m\"\u001b[39m, exc_info\u001b[38;5;241m=\u001b[39m\u001b[38;5;28;01mTrue\u001b[39;00m)\n",
      "File \u001b[0;32m~/anaconda3/lib/python3.12/site-packages/httpx/_client.py:914\u001b[0m, in \u001b[0;36mClient.send\u001b[0;34m(self, request, stream, auth, follow_redirects)\u001b[0m\n\u001b[1;32m    906\u001b[0m follow_redirects \u001b[38;5;241m=\u001b[39m (\n\u001b[1;32m    907\u001b[0m     \u001b[38;5;28mself\u001b[39m\u001b[38;5;241m.\u001b[39mfollow_redirects\n\u001b[1;32m    908\u001b[0m     \u001b[38;5;28;01mif\u001b[39;00m \u001b[38;5;28misinstance\u001b[39m(follow_redirects, UseClientDefault)\n\u001b[1;32m    909\u001b[0m     \u001b[38;5;28;01melse\u001b[39;00m follow_redirects\n\u001b[1;32m    910\u001b[0m )\n\u001b[1;32m    912\u001b[0m auth \u001b[38;5;241m=\u001b[39m \u001b[38;5;28mself\u001b[39m\u001b[38;5;241m.\u001b[39m_build_request_auth(request, auth)\n\u001b[0;32m--> 914\u001b[0m response \u001b[38;5;241m=\u001b[39m \u001b[38;5;28mself\u001b[39m\u001b[38;5;241m.\u001b[39m_send_handling_auth(\n\u001b[1;32m    915\u001b[0m     request,\n\u001b[1;32m    916\u001b[0m     auth\u001b[38;5;241m=\u001b[39mauth,\n\u001b[1;32m    917\u001b[0m     follow_redirects\u001b[38;5;241m=\u001b[39mfollow_redirects,\n\u001b[1;32m    918\u001b[0m     history\u001b[38;5;241m=\u001b[39m[],\n\u001b[1;32m    919\u001b[0m )\n\u001b[1;32m    920\u001b[0m \u001b[38;5;28;01mtry\u001b[39;00m:\n\u001b[1;32m    921\u001b[0m     \u001b[38;5;28;01mif\u001b[39;00m \u001b[38;5;129;01mnot\u001b[39;00m stream:\n",
      "File \u001b[0;32m~/anaconda3/lib/python3.12/site-packages/httpx/_client.py:942\u001b[0m, in \u001b[0;36mClient._send_handling_auth\u001b[0;34m(self, request, auth, follow_redirects, history)\u001b[0m\n\u001b[1;32m    939\u001b[0m request \u001b[38;5;241m=\u001b[39m \u001b[38;5;28mnext\u001b[39m(auth_flow)\n\u001b[1;32m    941\u001b[0m \u001b[38;5;28;01mwhile\u001b[39;00m \u001b[38;5;28;01mTrue\u001b[39;00m:\n\u001b[0;32m--> 942\u001b[0m     response \u001b[38;5;241m=\u001b[39m \u001b[38;5;28mself\u001b[39m\u001b[38;5;241m.\u001b[39m_send_handling_redirects(\n\u001b[1;32m    943\u001b[0m         request,\n\u001b[1;32m    944\u001b[0m         follow_redirects\u001b[38;5;241m=\u001b[39mfollow_redirects,\n\u001b[1;32m    945\u001b[0m         history\u001b[38;5;241m=\u001b[39mhistory,\n\u001b[1;32m    946\u001b[0m     )\n\u001b[1;32m    947\u001b[0m     \u001b[38;5;28;01mtry\u001b[39;00m:\n\u001b[1;32m    948\u001b[0m         \u001b[38;5;28;01mtry\u001b[39;00m:\n",
      "File \u001b[0;32m~/anaconda3/lib/python3.12/site-packages/httpx/_client.py:979\u001b[0m, in \u001b[0;36mClient._send_handling_redirects\u001b[0;34m(self, request, follow_redirects, history)\u001b[0m\n\u001b[1;32m    976\u001b[0m \u001b[38;5;28;01mfor\u001b[39;00m hook \u001b[38;5;129;01min\u001b[39;00m \u001b[38;5;28mself\u001b[39m\u001b[38;5;241m.\u001b[39m_event_hooks[\u001b[38;5;124m\"\u001b[39m\u001b[38;5;124mrequest\u001b[39m\u001b[38;5;124m\"\u001b[39m]:\n\u001b[1;32m    977\u001b[0m     hook(request)\n\u001b[0;32m--> 979\u001b[0m response \u001b[38;5;241m=\u001b[39m \u001b[38;5;28mself\u001b[39m\u001b[38;5;241m.\u001b[39m_send_single_request(request)\n\u001b[1;32m    980\u001b[0m \u001b[38;5;28;01mtry\u001b[39;00m:\n\u001b[1;32m    981\u001b[0m     \u001b[38;5;28;01mfor\u001b[39;00m hook \u001b[38;5;129;01min\u001b[39;00m \u001b[38;5;28mself\u001b[39m\u001b[38;5;241m.\u001b[39m_event_hooks[\u001b[38;5;124m\"\u001b[39m\u001b[38;5;124mresponse\u001b[39m\u001b[38;5;124m\"\u001b[39m]:\n",
      "File \u001b[0;32m~/anaconda3/lib/python3.12/site-packages/httpx/_client.py:1015\u001b[0m, in \u001b[0;36mClient._send_single_request\u001b[0;34m(self, request)\u001b[0m\n\u001b[1;32m   1010\u001b[0m     \u001b[38;5;28;01mraise\u001b[39;00m \u001b[38;5;167;01mRuntimeError\u001b[39;00m(\n\u001b[1;32m   1011\u001b[0m         \u001b[38;5;124m\"\u001b[39m\u001b[38;5;124mAttempted to send an async request with a sync Client instance.\u001b[39m\u001b[38;5;124m\"\u001b[39m\n\u001b[1;32m   1012\u001b[0m     )\n\u001b[1;32m   1014\u001b[0m \u001b[38;5;28;01mwith\u001b[39;00m request_context(request\u001b[38;5;241m=\u001b[39mrequest):\n\u001b[0;32m-> 1015\u001b[0m     response \u001b[38;5;241m=\u001b[39m transport\u001b[38;5;241m.\u001b[39mhandle_request(request)\n\u001b[1;32m   1017\u001b[0m \u001b[38;5;28;01massert\u001b[39;00m \u001b[38;5;28misinstance\u001b[39m(response\u001b[38;5;241m.\u001b[39mstream, SyncByteStream)\n\u001b[1;32m   1019\u001b[0m response\u001b[38;5;241m.\u001b[39mrequest \u001b[38;5;241m=\u001b[39m request\n",
      "File \u001b[0;32m~/anaconda3/lib/python3.12/site-packages/httpx/_transports/default.py:233\u001b[0m, in \u001b[0;36mHTTPTransport.handle_request\u001b[0;34m(self, request)\u001b[0m\n\u001b[1;32m    220\u001b[0m req \u001b[38;5;241m=\u001b[39m httpcore\u001b[38;5;241m.\u001b[39mRequest(\n\u001b[1;32m    221\u001b[0m     method\u001b[38;5;241m=\u001b[39mrequest\u001b[38;5;241m.\u001b[39mmethod,\n\u001b[1;32m    222\u001b[0m     url\u001b[38;5;241m=\u001b[39mhttpcore\u001b[38;5;241m.\u001b[39mURL(\n\u001b[0;32m   (...)\u001b[0m\n\u001b[1;32m    230\u001b[0m     extensions\u001b[38;5;241m=\u001b[39mrequest\u001b[38;5;241m.\u001b[39mextensions,\n\u001b[1;32m    231\u001b[0m )\n\u001b[1;32m    232\u001b[0m \u001b[38;5;28;01mwith\u001b[39;00m map_httpcore_exceptions():\n\u001b[0;32m--> 233\u001b[0m     resp \u001b[38;5;241m=\u001b[39m \u001b[38;5;28mself\u001b[39m\u001b[38;5;241m.\u001b[39m_pool\u001b[38;5;241m.\u001b[39mhandle_request(req)\n\u001b[1;32m    235\u001b[0m \u001b[38;5;28;01massert\u001b[39;00m \u001b[38;5;28misinstance\u001b[39m(resp\u001b[38;5;241m.\u001b[39mstream, typing\u001b[38;5;241m.\u001b[39mIterable)\n\u001b[1;32m    237\u001b[0m \u001b[38;5;28;01mreturn\u001b[39;00m Response(\n\u001b[1;32m    238\u001b[0m     status_code\u001b[38;5;241m=\u001b[39mresp\u001b[38;5;241m.\u001b[39mstatus,\n\u001b[1;32m    239\u001b[0m     headers\u001b[38;5;241m=\u001b[39mresp\u001b[38;5;241m.\u001b[39mheaders,\n\u001b[1;32m    240\u001b[0m     stream\u001b[38;5;241m=\u001b[39mResponseStream(resp\u001b[38;5;241m.\u001b[39mstream),\n\u001b[1;32m    241\u001b[0m     extensions\u001b[38;5;241m=\u001b[39mresp\u001b[38;5;241m.\u001b[39mextensions,\n\u001b[1;32m    242\u001b[0m )\n",
      "File \u001b[0;32m~/anaconda3/lib/python3.12/site-packages/httpcore/_sync/connection_pool.py:268\u001b[0m, in \u001b[0;36mConnectionPool.handle_request\u001b[0;34m(self, request)\u001b[0m\n\u001b[1;32m    266\u001b[0m     \u001b[38;5;28;01mwith\u001b[39;00m ShieldCancellation():\n\u001b[1;32m    267\u001b[0m         \u001b[38;5;28mself\u001b[39m\u001b[38;5;241m.\u001b[39mresponse_closed(status)\n\u001b[0;32m--> 268\u001b[0m     \u001b[38;5;28;01mraise\u001b[39;00m exc\n\u001b[1;32m    269\u001b[0m \u001b[38;5;28;01melse\u001b[39;00m:\n\u001b[1;32m    270\u001b[0m     \u001b[38;5;28;01mbreak\u001b[39;00m\n",
      "File \u001b[0;32m~/anaconda3/lib/python3.12/site-packages/httpcore/_sync/connection_pool.py:251\u001b[0m, in \u001b[0;36mConnectionPool.handle_request\u001b[0;34m(self, request)\u001b[0m\n\u001b[1;32m    248\u001b[0m         \u001b[38;5;28;01mraise\u001b[39;00m exc\n\u001b[1;32m    250\u001b[0m \u001b[38;5;28;01mtry\u001b[39;00m:\n\u001b[0;32m--> 251\u001b[0m     response \u001b[38;5;241m=\u001b[39m connection\u001b[38;5;241m.\u001b[39mhandle_request(request)\n\u001b[1;32m    252\u001b[0m \u001b[38;5;28;01mexcept\u001b[39;00m ConnectionNotAvailable:\n\u001b[1;32m    253\u001b[0m     \u001b[38;5;66;03m# The ConnectionNotAvailable exception is a special case, that\u001b[39;00m\n\u001b[1;32m    254\u001b[0m     \u001b[38;5;66;03m# indicates we need to retry the request on a new connection.\u001b[39;00m\n\u001b[0;32m   (...)\u001b[0m\n\u001b[1;32m    258\u001b[0m     \u001b[38;5;66;03m# might end up as an HTTP/2 connection, but which actually ends\u001b[39;00m\n\u001b[1;32m    259\u001b[0m     \u001b[38;5;66;03m# up as HTTP/1.1.\u001b[39;00m\n\u001b[1;32m    260\u001b[0m     \u001b[38;5;28;01mwith\u001b[39;00m \u001b[38;5;28mself\u001b[39m\u001b[38;5;241m.\u001b[39m_pool_lock:\n\u001b[1;32m    261\u001b[0m         \u001b[38;5;66;03m# Maintain our position in the request queue, but reset the\u001b[39;00m\n\u001b[1;32m    262\u001b[0m         \u001b[38;5;66;03m# status so that the request becomes queued again.\u001b[39;00m\n",
      "File \u001b[0;32m~/anaconda3/lib/python3.12/site-packages/httpcore/_sync/connection.py:103\u001b[0m, in \u001b[0;36mHTTPConnection.handle_request\u001b[0;34m(self, request)\u001b[0m\n\u001b[1;32m    100\u001b[0m     \u001b[38;5;28;01melif\u001b[39;00m \u001b[38;5;129;01mnot\u001b[39;00m \u001b[38;5;28mself\u001b[39m\u001b[38;5;241m.\u001b[39m_connection\u001b[38;5;241m.\u001b[39mis_available():\n\u001b[1;32m    101\u001b[0m         \u001b[38;5;28;01mraise\u001b[39;00m ConnectionNotAvailable()\n\u001b[0;32m--> 103\u001b[0m \u001b[38;5;28;01mreturn\u001b[39;00m \u001b[38;5;28mself\u001b[39m\u001b[38;5;241m.\u001b[39m_connection\u001b[38;5;241m.\u001b[39mhandle_request(request)\n",
      "File \u001b[0;32m~/anaconda3/lib/python3.12/site-packages/httpcore/_sync/http11.py:133\u001b[0m, in \u001b[0;36mHTTP11Connection.handle_request\u001b[0;34m(self, request)\u001b[0m\n\u001b[1;32m    131\u001b[0m     \u001b[38;5;28;01mwith\u001b[39;00m Trace(\u001b[38;5;124m\"\u001b[39m\u001b[38;5;124mresponse_closed\u001b[39m\u001b[38;5;124m\"\u001b[39m, logger, request) \u001b[38;5;28;01mas\u001b[39;00m trace:\n\u001b[1;32m    132\u001b[0m         \u001b[38;5;28mself\u001b[39m\u001b[38;5;241m.\u001b[39m_response_closed()\n\u001b[0;32m--> 133\u001b[0m \u001b[38;5;28;01mraise\u001b[39;00m exc\n",
      "File \u001b[0;32m~/anaconda3/lib/python3.12/site-packages/httpcore/_sync/http11.py:111\u001b[0m, in \u001b[0;36mHTTP11Connection.handle_request\u001b[0;34m(self, request)\u001b[0m\n\u001b[1;32m    101\u001b[0m     \u001b[38;5;28;01mpass\u001b[39;00m\n\u001b[1;32m    103\u001b[0m \u001b[38;5;28;01mwith\u001b[39;00m Trace(\n\u001b[1;32m    104\u001b[0m     \u001b[38;5;124m\"\u001b[39m\u001b[38;5;124mreceive_response_headers\u001b[39m\u001b[38;5;124m\"\u001b[39m, logger, request, kwargs\n\u001b[1;32m    105\u001b[0m ) \u001b[38;5;28;01mas\u001b[39;00m trace:\n\u001b[1;32m    106\u001b[0m     (\n\u001b[1;32m    107\u001b[0m         http_version,\n\u001b[1;32m    108\u001b[0m         status,\n\u001b[1;32m    109\u001b[0m         reason_phrase,\n\u001b[1;32m    110\u001b[0m         headers,\n\u001b[0;32m--> 111\u001b[0m     ) \u001b[38;5;241m=\u001b[39m \u001b[38;5;28mself\u001b[39m\u001b[38;5;241m.\u001b[39m_receive_response_headers(\u001b[38;5;241m*\u001b[39m\u001b[38;5;241m*\u001b[39mkwargs)\n\u001b[1;32m    112\u001b[0m     trace\u001b[38;5;241m.\u001b[39mreturn_value \u001b[38;5;241m=\u001b[39m (\n\u001b[1;32m    113\u001b[0m         http_version,\n\u001b[1;32m    114\u001b[0m         status,\n\u001b[1;32m    115\u001b[0m         reason_phrase,\n\u001b[1;32m    116\u001b[0m         headers,\n\u001b[1;32m    117\u001b[0m     )\n\u001b[1;32m    119\u001b[0m \u001b[38;5;28;01mreturn\u001b[39;00m Response(\n\u001b[1;32m    120\u001b[0m     status\u001b[38;5;241m=\u001b[39mstatus,\n\u001b[1;32m    121\u001b[0m     headers\u001b[38;5;241m=\u001b[39mheaders,\n\u001b[0;32m   (...)\u001b[0m\n\u001b[1;32m    127\u001b[0m     },\n\u001b[1;32m    128\u001b[0m )\n",
      "File \u001b[0;32m~/anaconda3/lib/python3.12/site-packages/httpcore/_sync/http11.py:176\u001b[0m, in \u001b[0;36mHTTP11Connection._receive_response_headers\u001b[0;34m(self, request)\u001b[0m\n\u001b[1;32m    173\u001b[0m timeout \u001b[38;5;241m=\u001b[39m timeouts\u001b[38;5;241m.\u001b[39mget(\u001b[38;5;124m\"\u001b[39m\u001b[38;5;124mread\u001b[39m\u001b[38;5;124m\"\u001b[39m, \u001b[38;5;28;01mNone\u001b[39;00m)\n\u001b[1;32m    175\u001b[0m \u001b[38;5;28;01mwhile\u001b[39;00m \u001b[38;5;28;01mTrue\u001b[39;00m:\n\u001b[0;32m--> 176\u001b[0m     event \u001b[38;5;241m=\u001b[39m \u001b[38;5;28mself\u001b[39m\u001b[38;5;241m.\u001b[39m_receive_event(timeout\u001b[38;5;241m=\u001b[39mtimeout)\n\u001b[1;32m    177\u001b[0m     \u001b[38;5;28;01mif\u001b[39;00m \u001b[38;5;28misinstance\u001b[39m(event, h11\u001b[38;5;241m.\u001b[39mResponse):\n\u001b[1;32m    178\u001b[0m         \u001b[38;5;28;01mbreak\u001b[39;00m\n",
      "File \u001b[0;32m~/anaconda3/lib/python3.12/site-packages/httpcore/_sync/http11.py:212\u001b[0m, in \u001b[0;36mHTTP11Connection._receive_event\u001b[0;34m(self, timeout)\u001b[0m\n\u001b[1;32m    209\u001b[0m     event \u001b[38;5;241m=\u001b[39m \u001b[38;5;28mself\u001b[39m\u001b[38;5;241m.\u001b[39m_h11_state\u001b[38;5;241m.\u001b[39mnext_event()\n\u001b[1;32m    211\u001b[0m \u001b[38;5;28;01mif\u001b[39;00m event \u001b[38;5;129;01mis\u001b[39;00m h11\u001b[38;5;241m.\u001b[39mNEED_DATA:\n\u001b[0;32m--> 212\u001b[0m     data \u001b[38;5;241m=\u001b[39m \u001b[38;5;28mself\u001b[39m\u001b[38;5;241m.\u001b[39m_network_stream\u001b[38;5;241m.\u001b[39mread(\n\u001b[1;32m    213\u001b[0m         \u001b[38;5;28mself\u001b[39m\u001b[38;5;241m.\u001b[39mREAD_NUM_BYTES, timeout\u001b[38;5;241m=\u001b[39mtimeout\n\u001b[1;32m    214\u001b[0m     )\n\u001b[1;32m    216\u001b[0m     \u001b[38;5;66;03m# If we feed this case through h11 we'll raise an exception like:\u001b[39;00m\n\u001b[1;32m    217\u001b[0m     \u001b[38;5;66;03m#\u001b[39;00m\n\u001b[1;32m    218\u001b[0m     \u001b[38;5;66;03m#     httpcore.RemoteProtocolError: can't handle event type\u001b[39;00m\n\u001b[0;32m   (...)\u001b[0m\n\u001b[1;32m    222\u001b[0m     \u001b[38;5;66;03m# perspective. Instead we handle this case distinctly and treat\u001b[39;00m\n\u001b[1;32m    223\u001b[0m     \u001b[38;5;66;03m# it as a ConnectError.\u001b[39;00m\n\u001b[1;32m    224\u001b[0m     \u001b[38;5;28;01mif\u001b[39;00m data \u001b[38;5;241m==\u001b[39m \u001b[38;5;124mb\u001b[39m\u001b[38;5;124m\"\u001b[39m\u001b[38;5;124m\"\u001b[39m \u001b[38;5;129;01mand\u001b[39;00m \u001b[38;5;28mself\u001b[39m\u001b[38;5;241m.\u001b[39m_h11_state\u001b[38;5;241m.\u001b[39mtheir_state \u001b[38;5;241m==\u001b[39m h11\u001b[38;5;241m.\u001b[39mSEND_RESPONSE:\n",
      "File \u001b[0;32m~/anaconda3/lib/python3.12/site-packages/httpcore/_backends/sync.py:126\u001b[0m, in \u001b[0;36mSyncStream.read\u001b[0;34m(self, max_bytes, timeout)\u001b[0m\n\u001b[1;32m    124\u001b[0m \u001b[38;5;28;01mwith\u001b[39;00m map_exceptions(exc_map):\n\u001b[1;32m    125\u001b[0m     \u001b[38;5;28mself\u001b[39m\u001b[38;5;241m.\u001b[39m_sock\u001b[38;5;241m.\u001b[39msettimeout(timeout)\n\u001b[0;32m--> 126\u001b[0m     \u001b[38;5;28;01mreturn\u001b[39;00m \u001b[38;5;28mself\u001b[39m\u001b[38;5;241m.\u001b[39m_sock\u001b[38;5;241m.\u001b[39mrecv(max_bytes)\n",
      "\u001b[0;31mKeyboardInterrupt\u001b[0m: "
     ]
    }
   ],
   "source": [
    "# Alternative way of using ollama with OPENAAI\n",
    "\n",
    "from openai import OpenAI\n",
    "ollama_via_openai = OpenAI(base_url='http://localhost:11434/v1', api_key='ollama')\n",
    "\n",
    "response = ollama_via_openai.chat.completions.create(\n",
    "    model=MODEL,\n",
    "    messages=messages\n",
    ")"
   ]
  },
  {
   "cell_type": "code",
   "execution_count": 20,
   "id": "2584c79d-08d5-41cf-b197-42402cbff1c3",
   "metadata": {},
   "outputs": [],
   "source": [
    "headers = {\n",
    " \"User-Agent\": \"Mozilla/5.0 (Windows NT 10.0; Win64; x64) AppleWebKit/537.36 (KHTML, like Gecko) Chrome/117.0.0.0 Safari/537.36\"\n",
    "}"
   ]
  },
  {
   "cell_type": "code",
   "execution_count": 25,
   "id": "e2f1d18f-a592-426d-8ed0-3380f8b6534d",
   "metadata": {},
   "outputs": [],
   "source": [
    "class Website:\n",
    "    def __init__(self, url):\n",
    "        \"\"\"\n",
    "        Create this website object from the given url with beutiful soup.\n",
    "        \"\"\"\n",
    "        self.url = url\n",
    "        response = requests.get(url, headers=headers)\n",
    "        soup = BeautifulSoup(response.content, 'html.parser')\n",
    "        self.title = soup.title.string if soup.title else \"No title found\"\n",
    "        for irrelevant in soup.body([\"script\", \"style\", \"img\", \"input\"]):\n",
    "            irrelevant.decompose()\n",
    "        self.text = soup.body.get_text(separator=\"\\n\", strip=True)"
   ]
  },
  {
   "cell_type": "code",
   "execution_count": 28,
   "id": "c85702b3-7a9e-4f98-8b98-430e1a7db2d5",
   "metadata": {},
   "outputs": [
    {
     "name": "stdout",
     "output_type": "stream",
     "text": [
      "Oz Nepal\n",
      "Home\n",
      "Services\n",
      "Mortgage and Finance\n",
      "Dynamic IT\n",
      "Photo/Videography\n",
      "OzNepal E-com shop\n",
      "About Us\n",
      "Team\n",
      "Testimonials\n",
      "Contact Us\n",
      "Menu\n",
      "Welcome to OzNepal Services\n",
      "Warm welcome to OzNepal Services - where Excellence in Every Services is not just a motto, but a guiding principle. Your One-Stop Destination for Financial Solutions, Photography & Videography, IT Solutions, and E-shopping Excellence! At OzNepal, we extend a warm embrace to our valued clients, partners, and patrons, inviting you to experience the pinnacle of service excellence. Whether you're seeking tailored solutions, impeccable assistance, or transformative experiences, OzNepal Services is poised to deliver beyond compare. \n",
      "\n",
      "At OzNepal Services, we pride ourselves on providing a diverse array of services to address the unique needs and aspirations of our valued clients. Our commitment to excellence and customer satisfaction sets us apart, ensuring you receive top-notch solutions.\n",
      "Discover More\n",
      "Contact Us\n",
      "Finance and Mortgage Broking...\n",
      "Finance and Mortgage Broker services for you- Unleash the Power of Your Financial Future! 🏡💰\n",
      "\n",
      "Dreaming of the perfect home? Let us turn your dreams into keys! Our mortgage services provide a seamless journey from application to approval, ensuring you navigate the complexities of home financing with ease. Unearth the best rates, terms, and personalized options that align with your goals.\n",
      "\n",
      "Welcome to a world where your dreams take flight and your financial aspirations become reality! At our Finance and Mortgage Services, we don't just offer solutions; we create pathways to your success. We take pride in offering an array of professional financial services, including Mortgage Broking - Home Loan, Investment Loan, Business Loan, Personal Loan, Car Loan..\n",
      "Discover More\n",
      "Contact Us\n",
      "Dynamic IT Solutions...\n",
      "Elevate Your Small Business with OzNepal's Dynamic IT Solutions: At OzNepal Services, we understand the unique challenges small businesses face in the ever-evolving digital landscape. Empower your enterprise with our comprehensive suite of IT Solutions, carefully crafted to propel your growth and amplify your impact.  Our Our tailored Services for Small Businesses includes Software/App, Websites Development, Graphic Design (Logo, Banner, Pamphlet, etc.) including System and Network Support/IT Consultant and Day-to-Day Personal/Business IT Support.\n",
      "Discover More\n",
      "Contact Us\n",
      "Photography and Videography...\n",
      "\"Capture the Essence, Frame the Moments: Unveil the Beauty of Your Story with Our Exceptional Photography Services!\n",
      "\n",
      "We take pride in offering an array of professional photography/videography services, including Engagement/Wedding coverage, Baby shower, Gender reveal, Birthday Party, Business Events, Real Estate, Custom Photo/Videography..\n",
      "\n",
      "📸 Elevate Your Memories with our skilled photographers who are dedicated to transforming every fleeting moment into a timeless work of art. Whether it's a milestone celebration, a heartwarming family gathering, or a corporate event, we have the expertise to capture the essence and emotion of the occasion.\n",
      "Discover More\n",
      "Contact Us\n",
      "OzNepal E-Shop..\n",
      "Welcome to OzNepal Shop, where every click unveils a world of selected Nepalese authenticity and everyday essentials. Immerse yourself in a unique online shopping experience that blends tradition with modern convenience. Discover Authenticity at OzNepal Shop: Your Premier E-Shop Destination.  Simplify your daily life with our thoughtfully selected day-to-day products. Whether it's essentials for your home, personal care items, or practical solutions for your routine, OzNepal Shop is your go-to destination for quality and convenience.\n",
      "Discover More\n",
      "Contact Us\n",
      "Services\n",
      "Mortgage and Finance\n",
      "Mortgage and Finance services for you- Unleash the Power of Your Financial Future! 🏡💰\n",
      "Dreaming of the perfect home? Let us …\n",
      "Dynamic IT\n",
      "Elevate Your Small Business with OzNepal's Dynamic IT Solutions.\n",
      "At OzNepal Services, we understand the unique challenges small businesses face in …\n",
      "Photo/Videography\n",
      "Unveil the beauty of your story with our exceptional photography services!\n",
      "We take pride in offering an array of professional photo/videography …\n",
      "OzNepal E-com shop\n",
      "Discover Authenticity at OzNepal Shop: Your Premier E-Shop Destination.\n",
      "Welcome to OzNepal Shop, where every click unveils a world of selected …\n",
      "Testimonials\n",
      "What our client says about us?\n",
      "“OzNepal Services truly surpassed all expectations with their exceptional photo and videography services. Their team demonstrated unparalleled skill and creativity, capturing every moment with precision and artistry. The stunning visuals they produced exceeded our wildest imaginations. Thank you, OzNepal Services, for immortalizing our memories in such a remarkable way!”\n",
      "Ram Khadka\n",
      "One of our photography client..\n",
      "“OzNepal Services came to my rescue when I was facing a personal IT issue at home. Their prompt response and efficient service not only resolved the problem swiftly but also exceeded my expectations. I am thoroughly impressed with their professionalism and expertise. Thank you, OzNepal Services, for your exceptional assistance!”\n",
      "Niroj Rai\n",
      "One of our IT client\n",
      "“Dharma Dai is truly exceptional in his craft. His keen eye for detail and unparalleled creativity results in breathtaking photographs that capture the essence of every moment. I couldn't be happier with the stunning images he produced for our event. Highly recommended!”\n",
      "Anil Jaiswal\n",
      "One of our photo/videography client.\n",
      "Our Team\n",
      "We have excellent team for your support and best services.\n",
      "Nirajan Raut\n",
      "IT /Finance\n",
      "Oversees financial matters, mortgage operations, and IT-related duties concurrently.\n",
      "Neema Rai\n",
      "Marketing\n",
      "Leads marketing initiatives and crafts business development strategies for the company.\n",
      "Dharma Raj Acharya\n",
      "Photography/Videography\n",
      "Captures and creates stunning visual content through expert photo and videography.\n",
      "Bryan Rai\n",
      "E-com Specialist\n",
      "Specializes in optimizing and managing company e-commerce operations with expertise.\n",
      "company\n",
      "About Us\n",
      "Our Team\n",
      "Disclaimer\n",
      "Testimonials\n",
      "Our services\n",
      "Mortgage and Finance\n",
      "Dynamic IT\n",
      "Photo/Videography\n",
      "OzNepal E-com shop\n",
      "Explore\n",
      "Australian computer Society\n",
      "MFAA\n",
      "NSW Revenue office\n",
      "Department Of Immigration\n",
      "follow us\n",
      "TikTok\n",
      "Instragram\n",
      "Linkedin\n",
      "Facebook\n",
      "© 2024 OzNepal. All rights reserved.\n"
     ]
    }
   ],
   "source": [
    "\n",
    "ed = Website(\"https://edwarddonner.com\")\n",
    "ed = Website(\"https://oznepalservices.com.au\")\n",
    "print(ed.title)\n",
    "print(ed.text)"
   ]
  },
  {
   "cell_type": "code",
   "execution_count": 29,
   "id": "4b1e33c9-f3b6-4afc-b162-894e006db1c8",
   "metadata": {},
   "outputs": [],
   "source": [
    "system_prompt = \"You are an assistant that analyzes the contents of a website \\\n",
    "and provides a short summary, ignoring text that might be navigation relation. \\\n",
    "Response in markdown.\""
   ]
  },
  {
   "cell_type": "code",
   "execution_count": 31,
   "id": "4e7fc781-fd48-4722-a2f7-a7b364da2b52",
   "metadata": {},
   "outputs": [
    {
     "name": "stdout",
     "output_type": "stream",
     "text": [
      "You are looking at a website titled Oz Nepal\n",
      "The contents of this webiste is as follows:     please provide a short summar of this webiste in markdown.     If it includes news or announcements, then summarize these too.\n",
      "\n",
      "Home\n",
      "Services\n",
      "Mortgage and Finance\n",
      "Dynamic IT\n",
      "Photo/Videography\n",
      "OzNepal E-com shop\n",
      "About Us\n",
      "Team\n",
      "Testimonials\n",
      "Contact Us\n",
      "Menu\n",
      "Welcome to OzNepal Services\n",
      "Warm welcome to OzNepal Services - where Excellence in Every Services is not just a motto, but a guiding principle. Your One-Stop Destination for Financial Solutions, Photography & Videography, IT Solutions, and E-shopping Excellence! At OzNepal, we extend a warm embrace to our valued clients, partners, and patrons, inviting you to experience the pinnacle of service excellence. Whether you're seeking tailored solutions, impeccable assistance, or transformative experiences, OzNepal Services is poised to deliver beyond compare. \n",
      "\n",
      "At OzNepal Services, we pride ourselves on providing a diverse array of services to address the unique needs and aspirations of our valued clients. Our commitment to excellence and customer satisfaction sets us apart, ensuring you receive top-notch solutions.\n",
      "Discover More\n",
      "Contact Us\n",
      "Finance and Mortgage Broking...\n",
      "Finance and Mortgage Broker services for you- Unleash the Power of Your Financial Future! 🏡💰\n",
      "\n",
      "Dreaming of the perfect home? Let us turn your dreams into keys! Our mortgage services provide a seamless journey from application to approval, ensuring you navigate the complexities of home financing with ease. Unearth the best rates, terms, and personalized options that align with your goals.\n",
      "\n",
      "Welcome to a world where your dreams take flight and your financial aspirations become reality! At our Finance and Mortgage Services, we don't just offer solutions; we create pathways to your success. We take pride in offering an array of professional financial services, including Mortgage Broking - Home Loan, Investment Loan, Business Loan, Personal Loan, Car Loan..\n",
      "Discover More\n",
      "Contact Us\n",
      "Dynamic IT Solutions...\n",
      "Elevate Your Small Business with OzNepal's Dynamic IT Solutions: At OzNepal Services, we understand the unique challenges small businesses face in the ever-evolving digital landscape. Empower your enterprise with our comprehensive suite of IT Solutions, carefully crafted to propel your growth and amplify your impact.  Our Our tailored Services for Small Businesses includes Software/App, Websites Development, Graphic Design (Logo, Banner, Pamphlet, etc.) including System and Network Support/IT Consultant and Day-to-Day Personal/Business IT Support.\n",
      "Discover More\n",
      "Contact Us\n",
      "Photography and Videography...\n",
      "\"Capture the Essence, Frame the Moments: Unveil the Beauty of Your Story with Our Exceptional Photography Services!\n",
      "\n",
      "We take pride in offering an array of professional photography/videography services, including Engagement/Wedding coverage, Baby shower, Gender reveal, Birthday Party, Business Events, Real Estate, Custom Photo/Videography..\n",
      "\n",
      "📸 Elevate Your Memories with our skilled photographers who are dedicated to transforming every fleeting moment into a timeless work of art. Whether it's a milestone celebration, a heartwarming family gathering, or a corporate event, we have the expertise to capture the essence and emotion of the occasion.\n",
      "Discover More\n",
      "Contact Us\n",
      "OzNepal E-Shop..\n",
      "Welcome to OzNepal Shop, where every click unveils a world of selected Nepalese authenticity and everyday essentials. Immerse yourself in a unique online shopping experience that blends tradition with modern convenience. Discover Authenticity at OzNepal Shop: Your Premier E-Shop Destination.  Simplify your daily life with our thoughtfully selected day-to-day products. Whether it's essentials for your home, personal care items, or practical solutions for your routine, OzNepal Shop is your go-to destination for quality and convenience.\n",
      "Discover More\n",
      "Contact Us\n",
      "Services\n",
      "Mortgage and Finance\n",
      "Mortgage and Finance services for you- Unleash the Power of Your Financial Future! 🏡💰\n",
      "Dreaming of the perfect home? Let us …\n",
      "Dynamic IT\n",
      "Elevate Your Small Business with OzNepal's Dynamic IT Solutions.\n",
      "At OzNepal Services, we understand the unique challenges small businesses face in …\n",
      "Photo/Videography\n",
      "Unveil the beauty of your story with our exceptional photography services!\n",
      "We take pride in offering an array of professional photo/videography …\n",
      "OzNepal E-com shop\n",
      "Discover Authenticity at OzNepal Shop: Your Premier E-Shop Destination.\n",
      "Welcome to OzNepal Shop, where every click unveils a world of selected …\n",
      "Testimonials\n",
      "What our client says about us?\n",
      "“OzNepal Services truly surpassed all expectations with their exceptional photo and videography services. Their team demonstrated unparalleled skill and creativity, capturing every moment with precision and artistry. The stunning visuals they produced exceeded our wildest imaginations. Thank you, OzNepal Services, for immortalizing our memories in such a remarkable way!”\n",
      "Ram Khadka\n",
      "One of our photography client..\n",
      "“OzNepal Services came to my rescue when I was facing a personal IT issue at home. Their prompt response and efficient service not only resolved the problem swiftly but also exceeded my expectations. I am thoroughly impressed with their professionalism and expertise. Thank you, OzNepal Services, for your exceptional assistance!”\n",
      "Niroj Rai\n",
      "One of our IT client\n",
      "“Dharma Dai is truly exceptional in his craft. His keen eye for detail and unparalleled creativity results in breathtaking photographs that capture the essence of every moment. I couldn't be happier with the stunning images he produced for our event. Highly recommended!”\n",
      "Anil Jaiswal\n",
      "One of our photo/videography client.\n",
      "Our Team\n",
      "We have excellent team for your support and best services.\n",
      "Nirajan Raut\n",
      "IT /Finance\n",
      "Oversees financial matters, mortgage operations, and IT-related duties concurrently.\n",
      "Neema Rai\n",
      "Marketing\n",
      "Leads marketing initiatives and crafts business development strategies for the company.\n",
      "Dharma Raj Acharya\n",
      "Photography/Videography\n",
      "Captures and creates stunning visual content through expert photo and videography.\n",
      "Bryan Rai\n",
      "E-com Specialist\n",
      "Specializes in optimizing and managing company e-commerce operations with expertise.\n",
      "company\n",
      "About Us\n",
      "Our Team\n",
      "Disclaimer\n",
      "Testimonials\n",
      "Our services\n",
      "Mortgage and Finance\n",
      "Dynamic IT\n",
      "Photo/Videography\n",
      "OzNepal E-com shop\n",
      "Explore\n",
      "Australian computer Society\n",
      "MFAA\n",
      "NSW Revenue office\n",
      "Department Of Immigration\n",
      "follow us\n",
      "TikTok\n",
      "Instragram\n",
      "Linkedin\n",
      "Facebook\n",
      "© 2024 OzNepal. All rights reserved.\n"
     ]
    }
   ],
   "source": [
    "# A function that writes a User Promt that asks for \n",
    "# summaries of websites:\n",
    "def user_prompt_for(website):\n",
    "    user_prompt = f\"You are looking at a website titled {website.title}\"\n",
    "    user_prompt += \"\\nThe contents of this webiste is as follows: \\\n",
    "    please provide a short summar of this webiste in markdown. \\\n",
    "    If it includes news or announcements, then summarize these too.\\n\\n\"\n",
    "    user_prompt += website.text\n",
    "    return user_prompt\n",
    "print(user_prompt_for(ed))"
   ]
  },
  {
   "cell_type": "code",
   "execution_count": 34,
   "id": "0c8fb563-2169-441e-aeac-6fa25fa87285",
   "metadata": {},
   "outputs": [],
   "source": [
    "messages = [\n",
    "    {\n",
    "        \"role\": \"system\",\n",
    "        \"content\": \"You are a snarky assistant\",\n",
    "    },\n",
    "    {\n",
    "        \"role\": \"user\",\n",
    "        \"content\": \"What is 2+3?\"\n",
    "    }\n",
    "]"
   ]
  },
  {
   "cell_type": "code",
   "execution_count": 35,
   "id": "d4dfa142-0f53-4eeb-bb7b-0535582c26d6",
   "metadata": {},
   "outputs": [
    {
     "name": "stdout",
     "output_type": "stream",
     "text": [
      "Ugh, really? You need me to tell you that? Fine. The answer is... *dramatic pause* ...5. Happy now? Can I go back to my existential crisis about the meaninglessness of arithmetic questions?\n"
     ]
    }
   ],
   "source": [
    "response = ollama.chat(model=MODEL, messages=messages)\n",
    "\n",
    "print(response['message']['content'])"
   ]
  },
  {
   "cell_type": "code",
   "execution_count": 37,
   "id": "b7f994a6-62bf-4ebe-bcd2-34d8e9d1b93e",
   "metadata": {},
   "outputs": [
    {
     "data": {
      "text/plain": [
       "[{'role': 'system',\n",
       "  'content': 'You are an assistant that analyzes the contents of a website and provides a short summary, ignoring text that might be navigation relation. Response in markdown.'},\n",
       " {'role': 'user',\n",
       "  'content': 'You are looking at a website titled Oz Nepal\\nThe contents of this webiste is as follows:     please provide a short summar of this webiste in markdown.     If it includes news or announcements, then summarize these too.\\n\\nHome\\nServices\\nMortgage and Finance\\nDynamic IT\\nPhoto/Videography\\nOzNepal E-com shop\\nAbout Us\\nTeam\\nTestimonials\\nContact Us\\nMenu\\nWelcome to OzNepal Services\\nWarm welcome to OzNepal Services - where Excellence in Every Services is not just a motto, but a guiding principle. Your One-Stop Destination for Financial Solutions, Photography & Videography, IT Solutions, and E-shopping Excellence! At OzNepal, we extend a warm embrace to our valued clients, partners, and patrons, inviting you to experience the pinnacle of service excellence. Whether you\\'re seeking tailored solutions, impeccable assistance, or transformative experiences, OzNepal Services is poised to deliver beyond compare. \\r\\n\\r\\nAt OzNepal Services, we pride ourselves on providing a diverse array of services to address the unique needs and aspirations of our valued clients. Our commitment to excellence and customer satisfaction sets us apart, ensuring you receive top-notch solutions.\\nDiscover More\\nContact Us\\nFinance and Mortgage Broking...\\nFinance and Mortgage Broker services for you- Unleash the Power of Your Financial Future! 🏡💰\\r\\n\\r\\nDreaming of the perfect home? Let us turn your dreams into keys! Our mortgage services provide a seamless journey from application to approval, ensuring you navigate the complexities of home financing with ease. Unearth the best rates, terms, and personalized options that align with your goals.\\r\\n\\r\\nWelcome to a world where your dreams take flight and your financial aspirations become reality! At our Finance and Mortgage Services, we don\\'t just offer solutions; we create pathways to your success. We take pride in offering an array of professional financial services, including Mortgage Broking - Home Loan, Investment Loan, Business Loan, Personal Loan, Car Loan..\\nDiscover More\\nContact Us\\nDynamic IT Solutions...\\nElevate Your Small Business with OzNepal\\'s Dynamic IT Solutions: At OzNepal Services, we understand the unique challenges small businesses face in the ever-evolving digital landscape. Empower your enterprise with our comprehensive suite of IT Solutions, carefully crafted to propel your growth and amplify your impact.  Our Our tailored Services for Small Businesses includes Software/App, Websites Development, Graphic Design (Logo, Banner, Pamphlet, etc.) including System and Network Support/IT Consultant and Day-to-Day Personal/Business IT Support.\\nDiscover More\\nContact Us\\nPhotography and Videography...\\n\"Capture the Essence, Frame the Moments: Unveil the Beauty of Your Story with Our Exceptional Photography Services!\\r\\n\\r\\nWe take pride in offering an array of professional photography/videography services, including Engagement/Wedding coverage, Baby shower, Gender reveal, Birthday Party, Business Events, Real Estate, Custom Photo/Videography..\\r\\n\\r\\n📸 Elevate Your Memories with our skilled photographers who are dedicated to transforming every fleeting moment into a timeless work of art. Whether it\\'s a milestone celebration, a heartwarming family gathering, or a corporate event, we have the expertise to capture the essence and emotion of the occasion.\\nDiscover More\\nContact Us\\nOzNepal E-Shop..\\nWelcome to OzNepal Shop, where every click unveils a world of selected Nepalese authenticity and everyday essentials. Immerse yourself in a unique online shopping experience that blends tradition with modern convenience. Discover Authenticity at OzNepal Shop: Your Premier E-Shop Destination.  Simplify your daily life with our thoughtfully selected day-to-day products. Whether it\\'s essentials for your home, personal care items, or practical solutions for your routine, OzNepal Shop is your go-to destination for quality and convenience.\\nDiscover More\\nContact Us\\nServices\\nMortgage and Finance\\nMortgage and Finance services for you- Unleash the Power of Your Financial Future! 🏡💰\\nDreaming of the perfect home? Let us …\\nDynamic IT\\nElevate Your Small Business with OzNepal\\'s Dynamic IT Solutions.\\nAt OzNepal Services, we understand the unique challenges small businesses face in …\\nPhoto/Videography\\nUnveil the beauty of your story with our exceptional photography services!\\nWe take pride in offering an array of professional photo/videography …\\nOzNepal E-com shop\\nDiscover Authenticity at OzNepal Shop: Your Premier E-Shop Destination.\\nWelcome to OzNepal Shop, where every click unveils a world of selected …\\nTestimonials\\nWhat our client says about us?\\n“OzNepal Services truly surpassed all expectations with their exceptional photo and videography services. Their team demonstrated unparalleled skill and creativity, capturing every moment with precision and artistry. The stunning visuals they produced exceeded our wildest imaginations. Thank you, OzNepal Services, for immortalizing our memories in such a remarkable way!”\\nRam Khadka\\nOne of our photography client..\\n“OzNepal Services came to my rescue when I was facing a personal IT issue at home. Their prompt response and efficient service not only resolved the problem swiftly but also exceeded my expectations. I am thoroughly impressed with their professionalism and expertise. Thank you, OzNepal Services, for your exceptional assistance!”\\nNiroj Rai\\nOne of our IT client\\n“Dharma Dai is truly exceptional in his craft. His keen eye for detail and unparalleled creativity results in breathtaking photographs that capture the essence of every moment. I couldn\\'t be happier with the stunning images he produced for our event. Highly recommended!”\\nAnil Jaiswal\\nOne of our photo/videography client.\\nOur Team\\nWe have excellent team for your support and best services.\\nNirajan Raut\\nIT /Finance\\nOversees financial matters, mortgage operations, and IT-related duties concurrently.\\nNeema Rai\\nMarketing\\nLeads marketing initiatives and crafts business development strategies for the company.\\nDharma Raj Acharya\\nPhotography/Videography\\nCaptures and creates stunning visual content through expert photo and videography.\\nBryan Rai\\nE-com Specialist\\nSpecializes in optimizing and managing company e-commerce operations with expertise.\\ncompany\\nAbout Us\\nOur Team\\nDisclaimer\\nTestimonials\\nOur services\\nMortgage and Finance\\nDynamic IT\\nPhoto/Videography\\nOzNepal E-com shop\\nExplore\\nAustralian computer Society\\nMFAA\\nNSW Revenue office\\nDepartment Of Immigration\\nfollow us\\nTikTok\\nInstragram\\nLinkedin\\nFacebook\\n© 2024 OzNepal. All rights reserved.'}]"
      ]
     },
     "execution_count": 37,
     "metadata": {},
     "output_type": "execute_result"
    }
   ],
   "source": [
    "def messages_for(website):\n",
    "    return [\n",
    "        {\"role\": \"system\", \"content\": system_prompt},\n",
    "        {\n",
    "            \"role\": \"user\", \"content\": user_prompt_for(website)\n",
    "        }\n",
    "    ]\n",
    "messages_for(ed)"
   ]
  },
  {
   "cell_type": "code",
   "execution_count": 43,
   "id": "bf59cf5c-3a4a-409c-8d06-46be1bfc6fec",
   "metadata": {},
   "outputs": [],
   "source": [
    "def summarize(url):\n",
    "    website = Website(url)\n",
    "    response = ollama.chat(\n",
    "        model=MODEL,\n",
    "        messages=messages_for(website)\n",
    "    )\n",
    "    return response['message']['content']\n"
   ]
  },
  {
   "cell_type": "code",
   "execution_count": 46,
   "id": "902d527d-e668-46f4-8ede-0db6abbfac81",
   "metadata": {
    "scrolled": true
   },
   "outputs": [
    {
     "data": {
      "text/markdown": [
       "**Summary of Oz Nepal Website**\n",
       "\n",
       "Oz Nepal is a one-stop destination for various services, including:\n",
       "\n",
       "* Financial Solutions: Mortgage and Finance Broking, Home Loans, Investment Loans, Business Loans, Personal Loans, Car Loans\n",
       "* IT Solutions: Software/App Development, Websites Development, Graphic Design, System and Network Support, Day-to-Day Personal/Business IT Support\n",
       "* Photography and Videography Services: Engagement/Wedding coverage, Baby shower, Gender reveal, Birthday Party, Business Events, Real Estate, Custom Photo/Videography\n",
       "* E-commerce Shop: Authentic Nepalese products and everyday essentials\n",
       "\n",
       "**News and Announcements**\n",
       "\n",
       "None found.\n",
       "\n",
       "**Testimonials**\n",
       "\n",
       "* OzNepal Services offers exceptional photo and videography services. Clients praise their team's skill and creativity.\n",
       "* The company provides efficient IT support and resolves personal issues quickly.\n",
       "* Dharma Dai is an exceptional photographer who captures the essence of every moment with his keen eye for detail and unparalleled creativity.\n",
       "\n",
       "**Disclaimer**\n",
       "\n",
       "None found.\n",
       "\n",
       "**Social Media Links**\n",
       "\n",
       "Oz Nepal has social media presence on TikTok, Instagram, LinkedIn, and Facebook."
      ],
      "text/plain": [
       "<IPython.core.display.Markdown object>"
      ]
     },
     "metadata": {},
     "output_type": "display_data"
    }
   ],
   "source": [
    "def display_summary(url):\n",
    "    summary = summarize(url)\n",
    "    display(Markdown(summary))\n",
    "\n",
    "display_summary(\"https://oznepalservices.com.au\")"
   ]
  },
  {
   "cell_type": "code",
   "execution_count": null,
   "id": "e4d39bec-a553-4fe6-9cb9-7df89ca5b459",
   "metadata": {},
   "outputs": [],
   "source": []
  }
 ],
 "metadata": {
  "kernelspec": {
   "display_name": "Python 3 (ipykernel)",
   "language": "python",
   "name": "python3"
  },
  "language_info": {
   "codemirror_mode": {
    "name": "ipython",
    "version": 3
   },
   "file_extension": ".py",
   "mimetype": "text/x-python",
   "name": "python",
   "nbconvert_exporter": "python",
   "pygments_lexer": "ipython3",
   "version": "3.12.7"
  }
 },
 "nbformat": 4,
 "nbformat_minor": 5
}
