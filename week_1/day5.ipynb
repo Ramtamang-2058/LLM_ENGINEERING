{
 "cells": [
  {
   "cell_type": "code",
   "execution_count": 34,
   "id": "49410f31-fa4b-4b6c-87dc-8482cbc12266",
   "metadata": {},
   "outputs": [],
   "source": [
    "import os\n",
    "import requests\n",
    "import json\n",
    "from typing import List\n",
    "from dotenv import load_dotenv\n",
    "\n",
    "from bs4 import BeautifulSoup\n",
    "from IPython.display import Markdown, display, update_display\n",
    "\n",
    "import ollama"
   ]
  },
  {
   "cell_type": "code",
   "execution_count": 35,
   "id": "2d7bcd24-e4ca-4688-964b-9064a161163c",
   "metadata": {},
   "outputs": [],
   "source": [
    "# Constants \n",
    "OLLAMA_API = \"http://localhost:11434/api/chat\"\n",
    "HEADERS = {\"Content-Type\": \"application/json\"}\n",
    "MODEL = \"llama3.2\""
   ]
  },
  {
   "cell_type": "code",
   "execution_count": 36,
   "id": "12ba46bb-4ae6-4f46-81d3-0c4292f7c992",
   "metadata": {},
   "outputs": [
    {
     "ename": "SyntaxError",
     "evalue": "incomplete input (624666800.py, line 2)",
     "output_type": "error",
     "traceback": [
      "\u001b[0;36m  Cell \u001b[0;32mIn[36], line 2\u001b[0;36m\u001b[0m\n\u001b[0;31m    print(response['message']['content']\u001b[0m\n\u001b[0m                                        ^\u001b[0m\n\u001b[0;31mSyntaxError\u001b[0m\u001b[0;31m:\u001b[0m incomplete input\n"
     ]
    }
   ],
   "source": [
    "response = ollama.chat(model=MODEL, messages=messages)\n",
    "print(response['message']['content']"
   ]
  },
  {
   "cell_type": "code",
   "execution_count": 37,
   "id": "f39e82d9-d2e8-4651-b1e7-a58db89bb3f4",
   "metadata": {},
   "outputs": [],
   "source": [
    "headers = {\n",
    " \"User-Agent\": \"Mozilla/5.0 (Windows NT 10.0; Win64; x64) AppleWebKit/537.36 (KHTML, like Gecko) Chrome/117.0.0.0 Safari/537.36\"\n",
    "}"
   ]
  },
  {
   "cell_type": "code",
   "execution_count": 38,
   "id": "83ba1b6c-6fdc-47ff-8d97-af7b7fcb0f1f",
   "metadata": {},
   "outputs": [],
   "source": [
    "class Website:\n",
    "    def __init__(self, url):\n",
    "        \"\"\"\n",
    "        Create this website object from the given url with beutiful soup.\n",
    "        \"\"\"\n",
    "        self.url = url\n",
    "        response = requests.get(url, headers=headers)\n",
    "        self.body = response.content\n",
    "        soup = BeautifulSoup(self.body, 'html.parser')\n",
    "        self.title = soup.title.string if soup.title else \"No title found\"\n",
    "\n",
    "        if soup.body:\n",
    "        \n",
    "            for irrelevant in soup.body([\"script\", \"style\", \"img\", \"input\"]):\n",
    "                irrelevant.decompose()\n",
    "            self.text = soup.body.get_text(separator=\"\\n\", strip=True)\n",
    "        else:\n",
    "            self.text = \"\"\n",
    "        links = [link.get(\"href\") for link in soup.find_all('a')]\n",
    "        self.links= [link for link in links if link]\n",
    "\n",
    "    def get_contents(self):\n",
    "        return \"Webpage Title:\\n{self.title}\\nWebpage Contents:\\n{self.text}\\n\\n\"\n",
    "        "
   ]
  },
  {
   "cell_type": "code",
   "execution_count": 39,
   "id": "d9f72a22-5f56-45c9-84e8-5f040f2adfe7",
   "metadata": {},
   "outputs": [
    {
     "name": "stdout",
     "output_type": "stream",
     "text": [
      "Home - Edward Donner\n",
      "['https://edwarddonner.com/', 'https://edwarddonner.com/outsmart/', 'https://edwarddonner.com/about-me-and-about-nebula/', 'https://edwarddonner.com/posts/', 'https://edwarddonner.com/', 'https://news.ycombinator.com', 'https://nebula.io/?utm_source=ed&utm_medium=referral', 'https://www.prnewswire.com/news-releases/wynden-stark-group-acquires-nyc-venture-backed-tech-startup-untapt-301269512.html', 'https://patents.google.com/patent/US20210049536A1/', 'https://www.linkedin.com/in/eddonner/', 'https://edwarddonner.com/2024/12/21/llm-resources-superdatascience/', 'https://edwarddonner.com/2024/12/21/llm-resources-superdatascience/', 'https://edwarddonner.com/2024/11/13/llm-engineering-resources/', 'https://edwarddonner.com/2024/11/13/llm-engineering-resources/', 'https://edwarddonner.com/2024/10/16/from-software-engineer-to-ai-data-scientist-resources/', 'https://edwarddonner.com/2024/10/16/from-software-engineer-to-ai-data-scientist-resources/', 'https://edwarddonner.com/2024/08/06/outsmart/', 'https://edwarddonner.com/2024/08/06/outsmart/', 'https://edwarddonner.com/', 'https://edwarddonner.com/outsmart/', 'https://edwarddonner.com/about-me-and-about-nebula/', 'https://edwarddonner.com/posts/', 'mailto:hello@mygroovydomain.com', 'https://www.linkedin.com/in/eddonner/', 'https://twitter.com/edwarddonner', 'https://www.facebook.com/edward.donner.52']\n"
     ]
    }
   ],
   "source": [
    "\n",
    "ed = Website(\"https://edwarddonner.com\")\n",
    "# ed = Website(\"https://oznepalservices.com.au\")\n",
    "print(ed.title)\n",
    "print(ed.links)"
   ]
  },
  {
   "cell_type": "code",
   "execution_count": 40,
   "id": "1fd54c70-5a3b-479e-9f89-bf3bcd238c58",
   "metadata": {},
   "outputs": [],
   "source": [
    "link_system_prompt = \"You are provided with a list of links found on a webpage.\\\n",
    "You are able to decide which of the links would be most relevant to include in a brochure about the company.\\\n",
    "such as links o an About page, or Careers/Jobs pages.\"\n",
    "link_system_prompt += \"You should response in JSON as in this example.\"\n",
    "link_system_prompt += \"\"\"\n",
    "{\n",
    "    \"links\": [\n",
    "    {\n",
    "    \"type\": \"about page\", \"url\":\"https://full.url/goes/here/about\"}\n",
    "    \n",
    "    },\n",
    "    {\n",
    "    \"type\": \"careers page\":\"https://another.full.url/careers\"}\n",
    "    }\n",
    "    ]\n",
    "}\n",
    "\"\"\""
   ]
  },
  {
   "cell_type": "code",
   "execution_count": 41,
   "id": "222f7b41-074b-4a2b-ae5e-591bb6fc42df",
   "metadata": {},
   "outputs": [
    {
     "name": "stdout",
     "output_type": "stream",
     "text": [
      "You are provided with a list of links found on a webpage.You are able to decide which of the links would be most relevant to include in a brochure about the company.such as links o an About page, or Careers/Jobs pages.You should response in JSON as in this example.\n",
      "{\n",
      "    \"links\": [\n",
      "    {\n",
      "    \"type\": \"about page\", \"url\":\"https://full.url/goes/here/about\"}\n",
      "    \n",
      "    },\n",
      "    {\n",
      "    \"type\": \"careers page\":\"https://another.full.url/careers\"}\n",
      "    }\n",
      "    ]\n",
      "}\n",
      "\n"
     ]
    }
   ],
   "source": [
    "print(link_system_prompt)"
   ]
  },
  {
   "cell_type": "code",
   "execution_count": 42,
   "id": "950eff83-63e6-41fe-85ff-3cc1523bf7b7",
   "metadata": {},
   "outputs": [],
   "source": [
    "def get_links_user_prompt(website):\n",
    "    user_prompt = f\"Here is the list of links on the website of {website.url} - \"\n",
    "    user_prompt += \"please decide which of these are relevant web links for a brochure about the company, respond with the full https URL in JSON format. \\\n",
    "Do not include Terms of Service, Privacy, email links.\\n\"\n",
    "    user_prompt += \"Links (some might be relative links):\\n\"\n",
    "    user_prompt += \"\\n\".join(website.links)\n",
    "    return user_prompt"
   ]
  },
  {
   "cell_type": "raw",
   "id": "7f4052e1-e44b-4fe7-8911-2d0a634ef4da",
   "metadata": {},
   "source": [
    "print(get_links_user_prompt(ed))"
   ]
  },
  {
   "cell_type": "code",
   "execution_count": 43,
   "id": "ccf91111-9d83-4399-999f-97df33db4f7d",
   "metadata": {},
   "outputs": [],
   "source": [
    "def messages_for(website):\n",
    "    return [\n",
    "        {\"role\": \"system\", \"content\": link_system_prompt},\n",
    "        {\n",
    "            \"role\": \"user\", \"content\": get_links_user_prompt(website)\n",
    "        }\n",
    "    ]"
   ]
  },
  {
   "cell_type": "code",
   "execution_count": 45,
   "id": "ef76c257-51dc-4a20-8aca-b98f3bbe4970",
   "metadata": {},
   "outputs": [
    {
     "data": {
      "text/markdown": [
       "Here is the list of relevant links in JSON format:\n",
       "\n",
       "```\n",
       "{\n",
       "  \"links\": [\n",
       "    {\n",
       "      \"type\": \"About page\",\n",
       "      \"url\": \"https://edwarddonner.com/about-me-and-about-nebula/\"\n",
       "    },\n",
       "    {\n",
       "      \"type\": \"Blog/Posts\",\n",
       "      \"url\": \"https://edwarddonner.com/posts/\"\n",
       "    },\n",
       "    {\n",
       "      \"type\": \"LinkedIn Profile\",\n",
       "      \"url\": \"https://www.linkedin.com/in/eddonner/\"\n",
       "    },\n",
       "    {\n",
       "      \"type\": \"Twitter Handle\",\n",
       "      \"url\": \"https://twitter.com/edwarddonner\"\n",
       "    },\n",
       "    {\n",
       "      \"type\": \"Facebook Profile\",\n",
       "      \"url\": \"https://www.facebook.com/edward.donner.52\"\n",
       "    }\n",
       "  ]\n",
       "}\n",
       "```\n",
       "\n",
       "I excluded the following links as they were not relevant to a brochure about the company:\n",
       "\n",
       "* https://news.ycombinator.com (external news website)\n",
       "* https://nebula.io/?utm_source=ed&utm_medium=referral (external link to another company's website)\n",
       "* https://www.prnewswire.com/news-releases/wynden-stark-group-acquires-nyc-venture-backed-tech-startup-untapt-301269512.html (external news article)\n",
       "* https://patents.google.com/patent/US20210049536A1/ (patent application)\n",
       "* mailto:hello@mygroovydomain.com (email link)\n",
       "* Terms of Service and other generic links"
      ],
      "text/plain": [
       "<IPython.core.display.Markdown object>"
      ]
     },
     "metadata": {},
     "output_type": "display_data"
    }
   ],
   "source": [
    "def summarize(url):\n",
    "    website = Website(url)\n",
    "    response = ollama.chat(\n",
    "    model=MODEL,\n",
    "    messages=messages_for(website)\n",
    "    )\n",
    "    return response['message']['content']\n",
    "\n",
    "def display_summary(url):\n",
    "    summary = summarize(url)\n",
    "    display(Markdown(summary))\n",
    "display_summary(\"https://edwarddonner.com\")"
   ]
  },
  {
   "cell_type": "code",
   "execution_count": null,
   "id": "d087dc80-44cd-4731-90f9-bb6b3d64355c",
   "metadata": {},
   "outputs": [],
   "source": []
  }
 ],
 "metadata": {
  "kernelspec": {
   "display_name": "Python 3 (ipykernel)",
   "language": "python",
   "name": "python3"
  },
  "language_info": {
   "codemirror_mode": {
    "name": "ipython",
    "version": 3
   },
   "file_extension": ".py",
   "mimetype": "text/x-python",
   "name": "python",
   "nbconvert_exporter": "python",
   "pygments_lexer": "ipython3",
   "version": "3.12.7"
  }
 },
 "nbformat": 4,
 "nbformat_minor": 5
}
